{
 "cells": [
  {
   "cell_type": "markdown",
   "id": "1c1f006c-1985-47b0-a302-53b9d4751996",
   "metadata": {},
   "source": [
    "# Generate Noise"
   ]
  },
  {
   "cell_type": "markdown",
   "id": "3625652e-64a2-49ef-8de4-d3a73599b0e3",
   "metadata": {},
   "source": [
    "### Gaussian Noise(가우시안 소음)\n",
    "* 완만한 곡선(정규분포)을 따라서 좀 더 부드러운 형태의 노이즈...\n",
    "\n",
    "### Laplacian Noise(라플라스 노이즈)\n",
    "* 끝이 표족함\n",
    "* 뾱! 튀는 애들이 많아서(극단값이 많음) 좀 특이한 친구들에 대한 적대적 학습에 좋음\n",
    "* Gaussian Noise보다 더 강한 노이즈 생성"
   ]
  },
  {
   "cell_type": "markdown",
   "id": "d29d6d78-4763-4383-8e40-beaf0d42f94c",
   "metadata": {},
   "source": [
    "### 코드 구현"
   ]
  },
  {
   "cell_type": "code",
   "execution_count": 1,
   "id": "2f137837-8546-40e0-a1e7-89e859799d46",
   "metadata": {},
   "outputs": [],
   "source": [
    "# pip"
   ]
  },
  {
   "cell_type": "code",
   "execution_count": 2,
   "id": "52c88c2e-7609-49f0-8f4b-87dea644ea17",
   "metadata": {},
   "outputs": [],
   "source": [
    "# import\n",
    "import os\n",
    "import shutil\n",
    "import librosa\n",
    "import numpy as np\n",
    "import soundfile as sf"
   ]
  },
  {
   "cell_type": "code",
   "execution_count": 3,
   "id": "5a505a6a-cadf-416b-8de0-671a77a6b611",
   "metadata": {},
   "outputs": [],
   "source": [
    "'''\n",
    "파일 경로 설정\n",
    "'''\n",
    "def set_file_path(source_dir,target_dir,root,file):\n",
    "    # 파일에 대한 경로\n",
    "    source_path = os.path.join(root, file)\n",
    "    relative_path = os.path.relpath(source_path, source_dir)\n",
    "    target_path = os.path.join(target_dir, relative_path)\n",
    "\n",
    "    os.makedirs(os.path.dirname(target_path), exist_ok=True)\n",
    "\n",
    "    return source_path,target_path    "
   ]
  },
  {
   "cell_type": "code",
   "execution_count": 4,
   "id": "e2ed3ba4-cef0-497b-8b4c-a133ad82992e",
   "metadata": {},
   "outputs": [],
   "source": [
    "'''\n",
    "가우시안 소음 생성\n",
    "\n",
    "Parameter:\n",
    "- source_dir : 탐색할 디렉토리 경로\n",
    "- target_dir : 저장될 디렉토리 경로\n",
    "- noise_level : 신호에 대한 소음 레벨\n",
    "'''\n",
    "def add_gaussian_noise_to_audio(source_dir,target_dir,noise_level=0.1):\n",
    "    for root, _, files in os.walk(source_dir):\n",
    "        for file in files:\n",
    "            if file.endswith(\".flac\"):\n",
    "                source_path,target_path = set_file_path(source_dir,target_dir,root,file)\n",
    "    \n",
    "                signal, sr = librosa.load(source_path, sr=None)\n",
    "    \n",
    "                noise = np.random.normal(0, np.std(signal) * noise_level, signal.shape)\n",
    "    \n",
    "                noisy_signal = signal + noise\n",
    "    \n",
    "                sf.write(target_path, noisy_signal, sr)\n",
    "\n",
    "            if file.endswith(\".txt\"):\n",
    "                source_path,target_path = set_file_path(source_dir,target_dir,root,file)\n",
    "                shutil.copy(source_path,target_path)"
   ]
  },
  {
   "cell_type": "code",
   "execution_count": 5,
   "id": "421363a3-e5d5-446f-8d3d-2ef64e5a0911",
   "metadata": {},
   "outputs": [],
   "source": [
    "'''\n",
    "라플리시안 소음 생성\n",
    "\n",
    "Parameter:\n",
    "- source_dir : 탐색할 디렉토리 경로\n",
    "- target_dir : 저장될 디렉토리 경로\n",
    "- noise_level : 신호에 대한 소음 레벨\n",
    "'''\n",
    "def add_laplacian_noise_to_audio(source_dir,target_dir,noise_level=0.1):\n",
    "    for root, _, files in os.walk(source_dir):\n",
    "        for file in files:\n",
    "            if file.endswith(\".flac\"):\n",
    "                source_path,target_path = set_file_path(source_dir,target_dir,root,file)\n",
    "    \n",
    "                signal, sr = librosa.load(source_path, sr=None)\n",
    "    \n",
    "                noise = np.random.laplace(0, np.std(signal) * noise_level, signal.shape) \n",
    "                # (노이즈의 분포 : 원점을 중심으로 양음 방향으로 대칭, 노이즈의 강도, 랜덤값의 형태(노이즈의 형태가 원본 신호랑 비슷))\n",
    "    \n",
    "                noisy_signal = signal + noise\n",
    "    \n",
    "                sf.write(target_path, noisy_signal, sr)\n",
    "    \n",
    "            if file.endswith(\".txt\"):\n",
    "                source_path,target_path = set_file_path(source_dir,target_dir,root,file)\n",
    "                shutil.copy(source_path,target_path)"
   ]
  },
  {
   "cell_type": "code",
   "execution_count": null,
   "id": "018b2831-3ec6-4794-bb61-9d9964fdda34",
   "metadata": {},
   "outputs": [],
   "source": [
    "# source_dir 설정\n",
    "source_dir = \"./data/x_eval\"\n",
    "\n",
    "for level in range(1,11):\n",
    "    gaussian_target_dir = f'./data/x_eval-gaussian-{level*10}'\n",
    "    add_gaussian_noise_to_audio(source_dir, gaussian_target_dir, level/10)\n",
    "\n",
    "for level in range(1,11):\n",
    "    laplacian_target_dir = f'./data/x_eval-laplacian-{level*10}'\n",
    "    add_laplacian_noise_to_audio(source_dir, laplacian_target_dir, level/10)"
   ]
  }
 ],
 "metadata": {
  "kernelspec": {
   "display_name": "HYU-GPU",
   "language": "python",
   "name": "hyu-gpu"
  },
  "language_info": {
   "codemirror_mode": {
    "name": "ipython",
    "version": 3
   },
   "file_extension": ".py",
   "mimetype": "text/x-python",
   "name": "python",
   "nbconvert_exporter": "python",
   "pygments_lexer": "ipython3",
   "version": "3.10.12"
  }
 },
 "nbformat": 4,
 "nbformat_minor": 5
}
