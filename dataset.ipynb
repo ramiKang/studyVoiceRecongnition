{
 "cells": [
  {
   "cell_type": "markdown",
   "id": "8bad4e5f-5210-406c-b405-07b126eb2eba",
   "metadata": {},
   "source": [
    "## Make Dataset\n",
    "하다하다 못해먹겠어서 내가 직접 만드는 데이터셋\n",
    "\n",
    "1. Load mappong json\n",
    "* (mapping).json 파일 improt\n",
    "2. Make dataFrame for mapping data\n",
    "* pandas 활용해서 audio, patch, transcription 형태의 dataFrame 정의하기\n",
    "* train/test 두 개 만들기\n",
    "* https://www.kaggle.com/code/umongsain/load-audio-data-using-huggingface-datasets\n",
    "3. Make datasetDict\n",
    "* 한 번에 Load 해서 쓸 수 있도록 datasetDict 형태로 가져오기\n",
    "* https://stackoverflow.com/questions/67852880/how-can-i-handle-this-datasets-to-create-a-datasetdict\n",
    "4. Save datasetDict in local path\n",
    "* 언제든지 쓸 수 있도록 바꿔놓기\n",
    "* https://stackoverflow.com/questions/75083737/how-to-save-custom-dataset-in-local-folder"
   ]
  },
  {
   "cell_type": "markdown",
   "id": "c167ed96-265c-4bc1-a141-9f5dc41c9fc6",
   "metadata": {},
   "source": [
    "#### Import library/Package\n",
    "가지고 올 것들 다 가져오자!"
   ]
  },
  {
   "cell_type": "code",
   "execution_count": 1,
   "id": "9da59b99-41f8-4f3f-aa72-98422c7aab50",
   "metadata": {},
   "outputs": [],
   "source": [
    "# pip\n",
    "# !pip install pandas\n",
    "# !pip install datasets"
   ]
  },
  {
   "cell_type": "code",
   "execution_count": 2,
   "id": "d5a74fee-8098-4674-ba13-3869570fa378",
   "metadata": {},
   "outputs": [
    {
     "name": "stderr",
     "output_type": "stream",
     "text": [
      "/home/haram/.local/lib/python3.10/site-packages/tqdm/auto.py:21: TqdmWarning: IProgress not found. Please update jupyter and ipywidgets. See https://ipywidgets.readthedocs.io/en/stable/user_install.html\n",
      "  from .autonotebook import tqdm as notebook_tqdm\n"
     ]
    }
   ],
   "source": [
    "# import\n",
    "import os\n",
    "import json\n",
    "import torch\n",
    "import torchaudio\n",
    "import pandas as pd\n",
    "import torch.nn as nn\n",
    "from torch.utils.data import DataLoader\n",
    "from datasets import Dataset, Audio\n",
    "import datasets"
   ]
  },
  {
   "cell_type": "markdown",
   "id": "90c6f224-a06a-4604-8304-0f1d199f1b8d",
   "metadata": {},
   "source": [
    "#### Load Json"
   ]
  },
  {
   "cell_type": "code",
   "execution_count": 3,
   "id": "bc5d2142-ea5b-48d0-bb62-ff63a3cc1c26",
   "metadata": {},
   "outputs": [],
   "source": [
    "# json_file_path = \"./data/mapping_jsons/gaussian-10.json\"\n",
    "\n",
    "# # JSON 파일 읽기\n",
    "# with open(json_file_path, \"r\", encoding=\"utf-8\") as json_file:\n",
    "#     mapping_data = json.load(json_file)"
   ]
  },
  {
   "cell_type": "markdown",
   "id": "7bcee339-918f-4c82-92c3-7d5ffb7ef39b",
   "metadata": {},
   "source": [
    "#### Make dataFrame for mapping data\n",
    "##### Dataset 형태\n",
    "\n",
    "\n",
    "Dataset({\n",
    "    features: ['path', 'transcription', 'audio'],\n",
    "    num_rows: 200\n",
    "})\n",
    "\n",
    "##### 특정 Dataset 형태\n",
    "```\n",
    "{\n",
    "    path:(파일 경로),\n",
    "    transcription:(전사 데이터,str),\n",
    "    audio:{\n",
    "        path:(파일 경로),\n",
    "        array:(모름 적당히 배열로 음성 데이터 잘 바꾼 듯?),\n",
    "        sampling_rate: 16000 \n",
    "    }\n",
    "}\n",
    "```"
   ]
  },
  {
   "cell_type": "code",
   "execution_count": 4,
   "id": "91772db0-1142-41c1-8f06-1bf88e270f06",
   "metadata": {},
   "outputs": [],
   "source": [
    "# # dict -> dataFrame\n",
    "# df=pd.DataFrame(mapping_data)\n",
    "# df[\"audio\"] = df[\"path\"]\n",
    "# dataset = Dataset.from_pandas(df).cast_column(\"audio\", Audio(sampling_rate=16_000))\n",
    "\n",
    "# # 데이터셋 체크\n",
    "# # print(dataset)\n",
    "# # print(dataset[0])\n",
    "# # print(dataset[0][\"path\"])\n",
    "# # print(dataset[0][\"audio\"])\n",
    "# # print(dataset[0][\"transcription\"])\n",
    "\n",
    "# # print(dataset)\n",
    "# # print(dataset[0])"
   ]
  },
  {
   "cell_type": "code",
   "execution_count": 5,
   "id": "2c6d063c-b166-428c-b930-b9cde1f34953",
   "metadata": {},
   "outputs": [],
   "source": [
    "# dataset_target_dir = \"./data/datasets/gaussian-10\"\n",
    "\n",
    "# dataset.save_to_disk(dataset_target_dir)"
   ]
  },
  {
   "cell_type": "markdown",
   "id": "065ed90d-c3d9-4036-a9b9-e209dbe277a4",
   "metadata": {},
   "source": [
    "#### Make datasetDict\n"
   ]
  },
  {
   "cell_type": "code",
   "execution_count": 6,
   "id": "bf4f2021-3209-4704-8320-06259f700bb2",
   "metadata": {},
   "outputs": [],
   "source": [
    "# dataDict = datasets.DatasetDict({\"test\":dataset})\n",
    "\n",
    "# dataDict"
   ]
  },
  {
   "cell_type": "markdown",
   "id": "caab75a6-b80d-44a3-81d3-5f03fb914ef5",
   "metadata": {},
   "source": [
    "#### Save datasetDict in load patch"
   ]
  },
  {
   "cell_type": "code",
   "execution_count": 7,
   "id": "4bbacb88-8fc0-4b8a-92c6-7ffa91e69b7f",
   "metadata": {},
   "outputs": [],
   "source": [
    "# dataset_target_dir = \"./data/datasets/eval\"\n",
    "# dataDict.save_to_disk(dataset_target_dir)"
   ]
  },
  {
   "cell_type": "code",
   "execution_count": 8,
   "id": "790dc912-437e-40f5-a5ab-064e5eeedbe2",
   "metadata": {},
   "outputs": [],
   "source": [
    "def make_dataset(json_file_path,dataset_target_dir):\n",
    "    with open(json_file_path, \"r\", encoding=\"utf-8\") as json_file:\n",
    "        mapping_data = json.load(json_file)\n",
    "\n",
    "    df=pd.DataFrame(mapping_data)\n",
    "    df[\"audio\"] = df[\"path\"]\n",
    "    dataset = Dataset.from_pandas(df).cast_column(\"audio\", Audio(sampling_rate=16_000))\n",
    "    \n",
    "    dataset.save_to_disk(\"./data/datasets/\"+dataset_target_dir)"
   ]
  },
  {
   "cell_type": "code",
   "execution_count": 9,
   "id": "f987f480-4908-40a8-8cd8-85f8b30ebc3b",
   "metadata": {},
   "outputs": [],
   "source": [
    "# json_file_path_list=[\"./data/mapping_jsons/gaussian-20.json\",\"./data/mapping_jsons/gaussian-30.json\",\"./data/mapping_jsons/gaussian-40.json\",\"./data/mapping_jsons/gaussian-50.json\",\"./data/mapping_jsons/gaussian-60.json\",\"./data/mapping_jsons/gaussian-70.json\",\"./data/mapping_jsons/gaussian-80.json\",\"./data/mapping_jsons/gaussian-90.json\",\"./data/mapping_jsons/gaussian-100.json\",\"./data/mapping_jsons/laplacian-10.json\",\"./data/mapping_jsons/laplacian-20.json\",\"./data/mapping_jsons/laplacian-30.json\",\"./data/mapping_jsons/laplacian-40.json\",\"./data/mapping_jsons/laplacian-50.json\",\"./data/mapping_jsons/laplacian-60.json\",\"./data/mapping_jsons/laplacian-70.json\",\"./data/mapping_jsons/laplacian-80.json\",\"./data/mapping_jsons/laplacian-90.json\",\"./data/mapping_jsons/laplacian-100.json\"]\n",
    "\n",
    "# for json_file_path in json_file_path_list:\n",
    "#     target_name = json_file_path.split(\"/\")[-1].split(\".\")[0].strip()\n",
    "#     make_dataset(json_file_path,target_name)"
   ]
  },
  {
   "cell_type": "code",
   "execution_count": 11,
   "id": "8c8a004f-a430-4d46-b17f-406d5b089bde",
   "metadata": {},
   "outputs": [],
   "source": [
    "# train_json_file_path=\"./data/mapping_jsons/train.json\"\n",
    "# target_name=\"train\"\n",
    "# make_dataset(train_json_file_path,target_name)\n",
    "\n",
    "# train_json_file_path=\"./data/mapping_jsons/eval.json\"\n",
    "# target_name=\"eval\"\n",
    "# for target in target_name_list\n",
    "for i in range(1,11):\n",
    "    train_json_file_path = f\"./data/mapping_jsons/gaussian-{i*10}.json\"\n",
    "    target_name=f\"gaussian-{i*10}\"\n",
    "    make_dataset(train_json_file_path,target_name)"
   ]
  },
  {
   "cell_type": "code",
   "execution_count": null,
   "id": "416ed505-9cb7-410f-a4f1-c195f39607e3",
   "metadata": {},
   "outputs": [],
   "source": [
    "# train_json_file_path=\"./data/mapping_jsons/test_data.json\"\n",
    "# target_name=\"real_test\"\n",
    "# make_dataset(train_json_file_path,target_name)"
   ]
  }
 ],
 "metadata": {
  "kernelspec": {
   "display_name": "HYU-GPU",
   "language": "python",
   "name": "hyu-gpu"
  },
  "language_info": {
   "codemirror_mode": {
    "name": "ipython",
    "version": 3
   },
   "file_extension": ".py",
   "mimetype": "text/x-python",
   "name": "python",
   "nbconvert_exporter": "python",
   "pygments_lexer": "ipython3",
   "version": "3.10.12"
  }
 },
 "nbformat": 4,
 "nbformat_minor": 5
}
