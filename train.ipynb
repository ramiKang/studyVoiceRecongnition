{
 "cells": [
  {
   "cell_type": "markdown",
   "id": "b7f11068-67d1-4218-8189-077ddca04953",
   "metadata": {},
   "source": [
    "## Train\n",
    "wav2vec 모델을 fine-tuning하는 과정"
   ]
  },
  {
   "cell_type": "code",
   "execution_count": 1,
   "id": "7886c405-686c-443c-aca5-c72153ac4731",
   "metadata": {},
   "outputs": [],
   "source": [
    "## Import Library / Package"
   ]
  },
  {
   "cell_type": "code",
   "execution_count": 2,
   "id": "682d7aeb-d8b0-4a75-88c0-5fbc7a0c770a",
   "metadata": {},
   "outputs": [],
   "source": [
    "# pip"
   ]
  },
  {
   "cell_type": "code",
   "execution_count": 3,
   "id": "3e3b37fe-4c5b-4421-b45e-f208bfd95e29",
   "metadata": {},
   "outputs": [
    {
     "name": "stderr",
     "output_type": "stream",
     "text": [
      "/home/haram/.local/lib/python3.10/site-packages/tqdm/auto.py:21: TqdmWarning: IProgress not found. Please update jupyter and ipywidgets. See https://ipywidgets.readthedocs.io/en/stable/user_install.html\n",
      "  from .autonotebook import tqdm as notebook_tqdm\n"
     ]
    }
   ],
   "source": [
    "# import\n",
    "import os\n",
    "import json\n",
    "import torch\n",
    "import torchaudio\n",
    "from torch.utils.data import Dataset\n",
    "from torch.utils.data import DataLoader\n",
    "import torch.nn as nn\n",
    "\n",
    "from transformers import Wav2Vec2ForCTC, Wav2Vec2Processor"
   ]
  },
  {
   "cell_type": "markdown",
   "id": "766330ac-4dac-4738-88fa-c28c3660b9a4",
   "metadata": {},
   "source": [
    "#### Define Custom DataSet\n",
    "로컬에 있는 데이터를 pytorch의 Dataset 클래스를 상속 받아 사용하는 과정"
   ]
  },
  {
   "cell_type": "code",
   "execution_count": 4,
   "id": "62d5cb67-df45-4a70-8c27-a443d8ce576c",
   "metadata": {},
   "outputs": [],
   "source": [
    "class CustomDataset(Dataset):\n",
    "    def __init__(self, json_path, processor):\n",
    "        self.json_path = json_path\n",
    "        self.processor = processor\n",
    "        \n",
    "        with open(json_path, 'r') as f:\n",
    "            self.data = json.load(f)\n",
    "\n",
    "    def __len__(self):\n",
    "        return len(self.data)\n",
    "\n",
    "    def __getitem__(self, idx):\n",
    "        sample = self.data[idx]\n",
    "        file_path = sample[\"path\"]\n",
    "        transcription = sample[\"transcription\"]\n",
    "\n",
    "        waveform, sample_rate = torchaudio.load(file_path)\n",
    "        \n",
    "        labels = self.processor.tokenizer(transcription, return_tensors=\"pt\").input_ids.flatten()\n",
    "\n",
    "        return {\n",
    "            \"input_values\": waveform,\n",
    "            \"labels\": labels\n",
    "        }"
   ]
  },
  {
   "cell_type": "markdown",
   "id": "c2f29eeb-a624-4efa-acec-22a97b005065",
   "metadata": {},
   "source": [
    "#### Set Up Config For DataSet\n",
    "데이터셋을 위한 기본 설정을 셋팅함\n",
    "현재 메모리 이슈가 있어 batch_size 및 num_workers 설정\n",
    "\n",
    "num_workers : 일꾼들... gpu * 4"
   ]
  },
  {
   "cell_type": "code",
   "execution_count": 5,
   "id": "69e180bf-195f-48b0-856f-cf4d555807cf",
   "metadata": {},
   "outputs": [
    {
     "name": "stderr",
     "output_type": "stream",
     "text": [
      "Some weights of the model checkpoint at facebook/wav2vec2-base-960h were not used when initializing Wav2Vec2ForCTC: ['wav2vec2.encoder.pos_conv_embed.conv.weight_g', 'wav2vec2.encoder.pos_conv_embed.conv.weight_v']\n",
      "- This IS expected if you are initializing Wav2Vec2ForCTC from the checkpoint of a model trained on another task or with another architecture (e.g. initializing a BertForSequenceClassification model from a BertForPreTraining model).\n",
      "- This IS NOT expected if you are initializing Wav2Vec2ForCTC from the checkpoint of a model that you expect to be exactly identical (initializing a BertForSequenceClassification model from a BertForSequenceClassification model).\n",
      "Some weights of Wav2Vec2ForCTC were not initialized from the model checkpoint at facebook/wav2vec2-base-960h and are newly initialized: ['wav2vec2.encoder.pos_conv_embed.conv.parametrizations.weight.original0', 'wav2vec2.encoder.pos_conv_embed.conv.parametrizations.weight.original1', 'wav2vec2.masked_spec_embed']\n",
      "You should probably TRAIN this model on a down-stream task to be able to use it for predictions and inference.\n"
     ]
    }
   ],
   "source": [
    "# GPU\n",
    "\n",
    "# 에러 로깅 가능\n",
    "os.environ['CUDA_LAUNCH_BLOCKING'] = '0'\n",
    "\n",
    "# cuda가 볼 수 잇는 GPU => 내가 사용할 GPU\n",
    "os.environ[\"CUDA_VISIBLE_DEVICES\"] = '1,2,3,4,5,6,7'\n",
    "device = torch.device(\"cuda\" if torch.cuda.is_available() else \"cpu\")\n",
    "\n",
    "# 데이터 병렬 처리를 위한..셋팅...\n",
    "model_name = \"facebook/wav2vec2-base-960h\"\n",
    "processor = Wav2Vec2Processor.from_pretrained(model_name)\n",
    "model = Wav2Vec2ForCTC.from_pretrained(model_name).to(device)\n",
    "\n",
    "if torch.cuda.is_available():\n",
    "    model = nn.DataParallel(model)\n",
    "    processor = nn.DataParallel(processor)"
   ]
  },
  {
   "cell_type": "code",
   "execution_count": 6,
   "id": "eaa5d309-4766-49cd-b5ac-d242b69fabf5",
   "metadata": {},
   "outputs": [],
   "source": [
    "# Setting\n",
    "learning_rate = 1e-4\n",
    "num_epoch=2\n",
    "\n",
    "optimizer = torch.optim.Adam(model.parameters(), lr=learning_rate)\n",
    "criterion = nn.CTCLoss()"
   ]
  },
  {
   "cell_type": "code",
   "execution_count": 7,
   "id": "f1bee9ea-3810-4492-84d3-705a49308eb5",
   "metadata": {},
   "outputs": [
    {
     "name": "stdout",
     "output_type": "stream",
     "text": [
      "<torch.utils.data.dataloader.DataLoader object at 0x7f8f34dec310>\n"
     ]
    }
   ],
   "source": [
    "# Load Data\n",
    "num_workers = 16\n",
    "batch_size = 32\n",
    "json_data_path = \"./data/exist_test/rami_mapping.json\"\n",
    "\n",
    "dataset = CustomDataset(json_data_path, processor)\n",
    "dataloader = DataLoader(dataset, batch_size=batch_size, shuffle=True, num_workers=num_workers)\n",
    "\n",
    "print(dataloader)"
   ]
  }
 ],
 "metadata": {
  "kernelspec": {
   "display_name": "HYU-GPU",
   "language": "python",
   "name": "hyu-gpu"
  },
  "language_info": {
   "codemirror_mode": {
    "name": "ipython",
    "version": 3
   },
   "file_extension": ".py",
   "mimetype": "text/x-python",
   "name": "python",
   "nbconvert_exporter": "python",
   "pygments_lexer": "ipython3",
   "version": "3.10.12"
  }
 },
 "nbformat": 4,
 "nbformat_minor": 5
}
