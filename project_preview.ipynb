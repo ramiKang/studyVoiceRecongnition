{
 "cells": [
  {
   "cell_type": "markdown",
   "id": "ace8af92-0f58-4537-aee6-a550b990c0c0",
   "metadata": {},
   "source": [
    "# Description\n",
    "대여정 레츠기릿...."
   ]
  },
  {
   "cell_type": "markdown",
   "id": "7b660180-0c0c-4e79-9685-86224b704355",
   "metadata": {},
   "source": [
    "## 목표\n",
    "음성 인식의 정확도는 유지하되, 화자 인식의 정확도는 낮춤 => 개인 정보 보호 **UP**"
   ]
  },
  {
   "cell_type": "markdown",
   "id": "cde0a30f-75db-4000-b167-f2fc06fa0fd8",
   "metadata": {},
   "source": [
    "## 해야할 실험\n",
    "### Case 1\n",
    "case1 노이즈을 추가했더니 화자(speaker) 인식(recognition) 정확도가 떨어지더라\n",
    "원본 음성 데이터 vs 노이즈 음성 데이터 비교 (Accuracy)\n",
    "### Case 2\n",
    "case2 노이즈를 추가했는데도 음성인식 정확도가 많이 안떨어지더라\n",
    "원본 음성 데이터 vs 노이즈 음성 데이터 비교 (WER)"
   ]
  },
  {
   "cell_type": "markdown",
   "id": "9901cdff-d52c-4257-a38e-ad550a3fea21",
   "metadata": {},
   "source": [
    "## 구조\n",
    "```\n",
    "├── data\n",
    "│   ├── datasets\n",
    "│   ├── mapping_jsons\n",
    "│   └── x_eval\n",
    "│   └── x_train\n",
    "│   └── x_eval-gaussian-10\n",
    "│   └── x_eval-gaussian-20\n",
    "|         ...\n",
    "│   └── x_eval-gaussian-100\n",
    "├── model\n",
    "│   ├── wav2vec\n",
    "├── noise.ipyby\n",
    "├── mapping.ipyby\n",
    "├── dataset.ipyby\n",
    "├── train.ipyby\n",
    "└── eval.ipyby\n",
    "```"
   ]
  },
  {
   "cell_type": "markdown",
   "id": "3b8d288d-e9c3-4eb7-b930-7ecb0f9a91bf",
   "metadata": {},
   "source": [
    "### 데이터 수집\n",
    "* ./data/x_train/ => 훈련 데이터\n",
    "* ./data/x_eval/ => 평가 데이터(원본)\n",
    "\n",
    "위의 과정은 이미 정제되어 있어서 스킵 그냥 그대로 하면 되는 것...."
   ]
  },
  {
   "cell_type": "markdown",
   "id": "ffe5a0a5-d2ea-4239-9f0f-f88fa94646b0",
   "metadata": {},
   "source": [
    "## 과정"
   ]
  },
  {
   "cell_type": "markdown",
   "id": "caa56cdc-e0d0-40c5-ae87-e3a4262e0cc2",
   "metadata": {},
   "source": [
    "### 1. 데이터 생성\n",
    "#### 데이터 불러오기\n",
    "* ./data/x_train/ => 훈련 데이터\n",
    "* ./data/x_eval/ => 평가 데이터(원본)\n",
    "\n",
    "librispeech 360h 데이터 가져가서 train:eval = 9:1 로 미리 만들어 놓은 거 씀(sw)\n",
    "\n",
    "#### noise 데이터 생성\n",
    "x_eval 데이터를 이용해서 gaussian noise rate 별로 데이터 생성\n",
    "* ./data/x_eval-gaussian-10\n",
    "* ./data/x_eval-gaussian-20\n",
    "  \n",
    " ...\n",
    "* ./data/x_eval-gaussian-100\n",
    "\n",
    "#### mapping json 파일 생성\n",
    "* ./data/mapping_json/파일명 생성\n",
    "* train 및 eval 데이터를 순환하여 {key : {\"path\":audio_path,\"\btranscription\":transcription}}\n",
    "\n",
    "#### dataset로 변환\n",
    "* ./data/datasets\n",
    "* json을 가지고 와서 적절한 형태로 dataset으로 변환"
   ]
  },
  {
   "cell_type": "markdown",
   "id": "4f05a398-c2d9-4612-8ef0-a359e47d9b1c",
   "metadata": {},
   "source": [
    "### 2. Tokenizer 생성"
   ]
  },
  {
   "cell_type": "markdown",
   "id": "dd70999d-3fb5-49ea-8519-b9886d1304a6",
   "metadata": {},
   "source": [
    "### 3. Train\n",
    "* wav2vec2.0\n",
    "* Trainer 사용"
   ]
  },
  {
   "cell_type": "markdown",
   "id": "e8ecec46-c814-46dd-8a6a-c3707bfed3c6",
   "metadata": {},
   "source": [
    "### 4. Evaluate\n",
    "* x_eval과 노이즈 입힌 데이터 보면서 wer 확인"
   ]
  }
 ],
 "metadata": {
  "kernelspec": {
   "display_name": "HYU-GPU",
   "language": "python",
   "name": "hyu-gpu"
  },
  "language_info": {
   "codemirror_mode": {
    "name": "ipython",
    "version": 3
   },
   "file_extension": ".py",
   "mimetype": "text/x-python",
   "name": "python",
   "nbconvert_exporter": "python",
   "pygments_lexer": "ipython3",
   "version": "3.10.12"
  }
 },
 "nbformat": 4,
 "nbformat_minor": 5
}
