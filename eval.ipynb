{
 "cells": [
  {
   "cell_type": "code",
   "execution_count": 1,
   "id": "f7435c26-98c5-4fcd-89bc-9c9148e79ad2",
   "metadata": {},
   "outputs": [
    {
     "name": "stdout",
     "output_type": "stream",
     "text": [
      "Defaulting to user installation because normal site-packages is not writeable\n",
      "Requirement already satisfied: jiwer in /home/haram/.local/lib/python3.10/site-packages (3.0.3)\n",
      "Requirement already satisfied: click<9.0.0,>=8.1.3 in /home/haram/.local/lib/python3.10/site-packages (from jiwer) (8.1.7)\n",
      "Requirement already satisfied: rapidfuzz<4,>=3 in /home/haram/.local/lib/python3.10/site-packages (from jiwer) (3.8.1)\n"
     ]
    }
   ],
   "source": [
    "# import\n",
    "!pip install jiwer"
   ]
  },
  {
   "cell_type": "code",
   "execution_count": 2,
   "id": "0b8da4db-4264-4570-88b2-468e0d2416d9",
   "metadata": {},
   "outputs": [
    {
     "name": "stderr",
     "output_type": "stream",
     "text": [
      "/home/haram/.local/lib/python3.10/site-packages/tqdm/auto.py:21: TqdmWarning: IProgress not found. Please update jupyter and ipywidgets. See https://ipywidgets.readthedocs.io/en/stable/user_install.html\n",
      "  from .autonotebook import tqdm as notebook_tqdm\n"
     ]
    }
   ],
   "source": [
    "# import\n",
    "import os\n",
    "import torch\n",
    "import torch.nn as nn\n",
    "from jiwer import wer\n",
    "import soundfile as sf\n",
    "from datasets import load_dataset,load_from_disk\n",
    "from transformers import Wav2Vec2ForCTC, Wav2Vec2Processor"
   ]
  },
  {
   "cell_type": "code",
   "execution_count": 3,
   "id": "bbe22be5-201a-4adc-9b6a-a51591529bb2",
   "metadata": {},
   "outputs": [],
   "source": [
    "class DataParallelCriterion(nn.DataParallel):\n",
    "    def forward(self, inputs, *targets, **kwargs):\n",
    "        targets, kwargs = self.scatter(targets, kwargs, self.device_ids)\n",
    "        replicas = self.replicate(self.module, self.device_ids[:len(inputs)])\n",
    "        targets = tuple(targets_per_gpu[0] for targets_per_gpu in targets)\n",
    "        outputs = _criterion_parallel_apply(replicas, inputs, targets, kwargs)\n",
    "        return nn.Reduce.apply(*outputs) / len(outputs), targets\n",
    "\n",
    "\n",
    "def _criterion_parallel_apply(replicas, inputs, targets, kwargs):\n",
    "    return [replica(inp, targ, **kwarg) for replica, inp, targ, kwarg in zip(replicas, inputs, targets, kwargs)]\n",
    "\n"
   ]
  },
  {
   "cell_type": "code",
   "execution_count": null,
   "id": "76d40631-f4a3-478a-a5e8-d4c02fca3327",
   "metadata": {},
   "outputs": [],
   "source": [
    "# 에러 로깅 가능\n",
    "os.environ['CUDA_LAUNCH_BLOCKING'] = '3'\n",
    "\n",
    "# cuda가 볼 수 잇는 GPU => 내가 사용할 GPU\n",
    "# os.environ[\"CUDA_VISIBLE_DEVICES\"] = '0, 1, 2, 3, 4, 5, 6, 7'\n",
    "device = torch.device(\"cuda\" if torch.cuda.is_available() else \"cpu\")\n",
    "\n",
    "# model_name = \"facebook/wav2vec2-base-960h\"\n",
    "# model_name=\"facebook/wav2vec2-large-robust-ft-libri-960h\"\n",
    "model_name=\"facebook/wav2vec2-base\"\n",
    "processor = Wav2Vec2Processor.from_pretrained(model_name)\n",
    "model = Wav2Vec2ForCTC.from_pretrained(model_name).to(device)\n",
    "\n",
    "if torch.cuda.is_available():\n",
    "    os.environ[\"CUDA_VISIBLE_DEVICES\"] = '0, 1, 2, 3, 4, 5, 6, 7'\n",
    "    model = nn.DataParallel(model, output_device=1)\n",
    "ds = load_from_disk(\"./data/datasets\")\n",
    "\n",
    "print(ds)\n",
    "test_ds = ds['test']\n",
    "\n",
    "def map_to_array(batch):\n",
    "    speech, _ = sf.read(batch[\"path\"])\n",
    "    batch[\"speech\"] = speech\n",
    "    return batch\n",
    "\n",
    "test_ds = test_ds.map(map_to_array)\n",
    "\n",
    "def map_to_pred(batch):\n",
    "    inputs = processor(batch[\"speech\"], sampling_rate=16000, return_tensors=\"pt\", padding=\"longest\")\n",
    "    input_values = inputs.input_values.to(device)\n",
    "    \n",
    "    model.eval()\n",
    "    \n",
    "    with torch.no_grad():\n",
    "        logits = model(input_values).logits\n",
    "\n",
    "    predicted_ids = torch.argmax(logits, dim=-1)\n",
    "    transcription = processor.batch_decode(predicted_ids)\n",
    "    batch[\"result\"] = transcription\n",
    "\n",
    "    return batch\n",
    "\n",
    "result = test_ds.map(map_to_pred, batched=True, batch_size=16)\n",
    "\n",
    "print(len(result))\n",
    "# print(type(result))\n",
    "\n",
    "# total  = len(result)\n",
    "# correct = 0\n",
    "# for data in result:\n",
    "#     if data[\"transcription\"] == data[\"result\"]:\n",
    "#         correct+=1\n",
    "\n",
    "# accuracy = (correct/total)*100\n",
    "print(\"WER:\", wer(result[\"transcription\"], result[\"result\"]))\n",
    "# accuracy"
   ]
  },
  {
   "cell_type": "code",
   "execution_count": 5,
   "id": "35b16f19-41db-43f8-83c9-28ab49c2323b",
   "metadata": {},
   "outputs": [],
   "source": [
    "# # 에러 로깅 가능\n",
    "# os.environ['CUDA_LAUNCH_BLOCKING'] = '3'\n",
    "\n",
    "# # cuda가 볼 수 잇는 GPU => 내가 사용할 GPU\n",
    "# os.environ[\"CUDA_VISIBLE_DEVICES\"] = '4,5,6,7'\n",
    "# device = torch.device(\"cuda\" if torch.cuda.is_available() else \"cpu\")\n",
    "\n",
    "# dataset_name= \"test1\"\n",
    "# model_name = \"facebook/wav2vec2-base-960h\"\n",
    "# dataset_dir =\"./data/exist_test/dict2\"\n",
    "\n",
    "# processor = Wav2Vec2Processor.from_pretrained(model_name)\n",
    "# model = Wav2Vec2ForCTC.from_pretrained(model_name).to(device)\n",
    "\n",
    "# eval_prev_train_model(model_name,dataset_dir,device,dataset_name)"
   ]
  }
 ],
 "metadata": {
  "kernelspec": {
   "display_name": "HYU-GPU",
   "language": "python",
   "name": "hyu-gpu"
  },
  "language_info": {
   "codemirror_mode": {
    "name": "ipython",
    "version": 3
   },
   "file_extension": ".py",
   "mimetype": "text/x-python",
   "name": "python",
   "nbconvert_exporter": "python",
   "pygments_lexer": "ipython3",
   "version": "3.10.12"
  }
 },
 "nbformat": 4,
 "nbformat_minor": 5
}
