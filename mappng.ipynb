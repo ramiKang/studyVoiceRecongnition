{
 "cells": [
  {
   "cell_type": "markdown",
   "id": "45fa7020-1799-4a6b-9581-54d4c0492186",
   "metadata": {},
   "source": [
    "## 맵핑 데이터 만들기\n",
    "모델 평가에 활용하기 위해 mapping.json 파일을 제작\n",
    "해당 데이터셋 폴더의 모든 파일들을 보면서 해당 파일의 경로 및 transcription을 맵핑할 예정\n",
    "{data_name}_mapping.json << 이런 형태로 data/{data_name}_mapping.json 형태로 저장"
   ]
  },
  {
   "cell_type": "code",
   "execution_count": 1,
   "id": "f779be4b-286f-4a7d-95dd-a743a2e71d93",
   "metadata": {},
   "outputs": [],
   "source": [
    "# pip"
   ]
  },
  {
   "cell_type": "code",
   "execution_count": 2,
   "id": "4df4963c-c2ca-44a7-a7bc-c1f35f60bd71",
   "metadata": {},
   "outputs": [],
   "source": [
    "# import\n",
    "import os\n",
    "# import shutil\n",
    "# import librosa\n",
    "# import numpy as np\n",
    "# import soundfile as sf"
   ]
  },
  {
   "cell_type": "code",
   "execution_count": 3,
   "id": "bc8e9138-fd9a-4c1f-93e2-230b3d4967a5",
   "metadata": {},
   "outputs": [],
   "source": [
    "'''\n",
    ".flac 파일 path와 전사 파일 path 리스트\n",
    "'''\n",
    "def make_file_paths(source_dir):\n",
    "    flac_path_list = []\n",
    "    trans_path_list=[]\n",
    "    for root, _, files in os.walk(source_dir):\n",
    "            for file in files:\n",
    "                if file.endswith(\".flac\"):\n",
    "                    flac_source_path = os.path.join(root, file)\n",
    "                    flac_path_list.append(flac_source_path)\n",
    "                if file.endswith(\".txt\"):\n",
    "                    trans_source_path = os.path.join(root, file)\n",
    "                    trans_path_list.append(trans_source_path)\n",
    "    return flac_path_list,trans_path_list"
   ]
  },
  {
   "cell_type": "code",
   "execution_count": 4,
   "id": "93a5ff01-fc1f-445c-bac1-928bc02cabb6",
   "metadata": {},
   "outputs": [
    {
     "name": "stdout",
     "output_type": "stream",
     "text": [
      "['./data/test_data/100/121674/100-121674-0037.flac', './data/test_data/100/121674/100-121674-0024.flac', './data/test_data/100/121674/100-121674-0039.flac', './data/test_data/100/121674/100-121674-0027.flac', './data/test_data/100/121674/100-121674-0038.flac', './data/test_data/100/121674/100-121674-0041.flac', './data/test_data/100/121674/100-121674-0007.flac', './data/test_data/100/121674/100-121674-0023.flac', './data/test_data/100/121674/100-121674-0012.flac', './data/test_data/100/121674/100-121674-0026.flac', './data/test_data/100/121674/100-121674-0018.flac', './data/test_data/100/121674/100-121674-0019.flac', './data/test_data/100/121674/100-121674-0031.flac', './data/test_data/100/121674/100-121674-0001.flac', './data/test_data/100/121674/100-121674-0005.flac', './data/test_data/100/121674/100-121674-0020.flac', './data/test_data/100/121674/100-121674-0015.flac', './data/test_data/100/121674/100-121674-0006.flac', './data/test_data/100/121674/100-121674-0008.flac', './data/test_data/100/121674/100-121674-0029.flac', './data/test_data/100/121674/100-121674-0033.flac', './data/test_data/100/121674/100-121674-0004.flac', './data/test_data/100/121674/100-121674-0022.flac', './data/test_data/100/121674/100-121674-0036.flac', './data/test_data/100/121674/100-121674-0034.flac', './data/test_data/100/121674/100-121674-0021.flac', './data/test_data/100/121674/100-121674-0035.flac', './data/test_data/100/121674/100-121674-0003.flac', './data/test_data/100/121674/100-121674-0014.flac', './data/test_data/100/121674/100-121674-0016.flac', './data/test_data/100/121674/100-121674-0009.flac', './data/test_data/100/121674/100-121674-0002.flac', './data/test_data/100/121674/100-121674-0032.flac', './data/test_data/100/121674/100-121674-0025.flac', './data/test_data/100/121674/100-121674-0043.flac', './data/test_data/100/121674/100-121674-0040.flac', './data/test_data/100/121674/100-121674-0030.flac', './data/test_data/100/121674/100-121674-0011.flac', './data/test_data/100/121674/100-121674-0013.flac', './data/test_data/100/121669/100-121669-0014.flac', './data/test_data/100/121669/100-121669-0023.flac', './data/test_data/100/121669/100-121669-0001.flac', './data/test_data/100/121669/100-121669-0019.flac', './data/test_data/100/121669/100-121669-0024.flac', './data/test_data/100/121669/100-121669-0002.flac', './data/test_data/100/121669/100-121669-0015.flac', './data/test_data/100/121669/100-121669-0018.flac', './data/test_data/100/121669/100-121669-0017.flac', './data/test_data/100/121669/100-121669-0000.flac', './data/test_data/100/121669/100-121669-0012.flac', './data/test_data/100/121669/100-121669-0010.flac', './data/test_data/100/121669/100-121669-0026.flac', './data/test_data/100/121669/100-121669-0008.flac', './data/test_data/100/121669/100-121669-0020.flac', './data/test_data/100/121669/100-121669-0011.flac', './data/test_data/100/121669/100-121669-0028.flac', './data/test_data/100/121669/100-121669-0022.flac', './data/test_data/100/121669/100-121669-0025.flac', './data/test_data/100/121669/100-121669-0007.flac', './data/test_data/100/121669/100-121669-0029.flac', './data/test_data/100/121669/100-121669-0021.flac', './data/test_data/100/121669/100-121669-0016.flac', './data/test_data/100/121669/100-121669-0006.flac', './data/test_data/100/121669/100-121669-0004.flac', './data/test_data/100/121669/100-121669-0005.flac', './data/test_data/100/121669/100-121669-0003.flac', './data/test_data/100/122655/100-122655-0020.flac', './data/test_data/100/122655/100-122655-0009.flac', './data/test_data/100/122655/100-122655-0029.flac', './data/test_data/100/122655/100-122655-0016.flac', './data/test_data/100/122655/100-122655-0008.flac', './data/test_data/100/122655/100-122655-0028.flac', './data/test_data/100/122655/100-122655-0018.flac', './data/test_data/100/122655/100-122655-0004.flac', './data/test_data/100/122655/100-122655-0031.flac', './data/test_data/100/122655/100-122655-0015.flac', './data/test_data/100/122655/100-122655-0014.flac', './data/test_data/100/122655/100-122655-0017.flac', './data/test_data/100/122655/100-122655-0007.flac', './data/test_data/100/122655/100-122655-0021.flac', './data/test_data/100/122655/100-122655-0030.flac', './data/test_data/100/122655/100-122655-0026.flac', './data/test_data/100/122655/100-122655-0010.flac', './data/test_data/100/122655/100-122655-0027.flac', './data/test_data/100/122655/100-122655-0037.flac', './data/test_data/100/122655/100-122655-0041.flac', './data/test_data/100/122655/100-122655-0001.flac', './data/test_data/100/122655/100-122655-0013.flac', './data/test_data/100/122655/100-122655-0023.flac', './data/test_data/100/122655/100-122655-0011.flac', './data/test_data/100/122655/100-122655-0040.flac', './data/test_data/100/122655/100-122655-0002.flac', './data/test_data/100/122655/100-122655-0025.flac', './data/test_data/100/122655/100-122655-0034.flac', './data/test_data/100/122655/100-122655-0019.flac', './data/test_data/100/122655/100-122655-0024.flac', './data/test_data/100/122655/100-122655-0039.flac', './data/test_data/100/122655/100-122655-0038.flac', './data/test_data/100/122655/100-122655-0042.flac', './data/test_data/100/122655/100-122655-0022.flac', './data/test_data/100/122655/100-122655-0003.flac', './data/test_data/100/122655/100-122655-0006.flac', './data/test_data/100/122655/100-122655-0033.flac', './data/test_data/100/122655/100-122655-0036.flac', './data/test_data/101/126861/101-126861-0005.flac', './data/test_data/101/126861/101-126861-0009.flac', './data/test_data/101/126861/101-126861-0013.flac', './data/test_data/101/126861/101-126861-0016.flac', './data/test_data/101/126861/101-126861-0012.flac', './data/test_data/101/126861/101-126861-0003.flac', './data/test_data/101/126861/101-126861-0004.flac', './data/test_data/101/126861/101-126861-0018.flac', './data/test_data/101/126861/101-126861-0010.flac', './data/test_data/101/126861/101-126861-0020.flac', './data/test_data/101/126861/101-126861-0019.flac', './data/test_data/101/126861/101-126861-0014.flac', './data/test_data/101/126861/101-126861-0015.flac', './data/test_data/101/126861/101-126861-0008.flac', './data/test_data/101/126861/101-126861-0017.flac', './data/test_data/101/126861/101-126861-0000.flac', './data/test_data/101/126861/101-126861-0007.flac', './data/test_data/101/126861/101-126861-0002.flac', './data/test_data/101/126860/101-126860-0017.flac', './data/test_data/101/126860/101-126860-0046.flac', './data/test_data/101/126860/101-126860-0030.flac', './data/test_data/101/126860/101-126860-0024.flac', './data/test_data/101/126860/101-126860-0018.flac', './data/test_data/101/126860/101-126860-0027.flac', './data/test_data/101/126860/101-126860-0032.flac', './data/test_data/101/126860/101-126860-0012.flac', './data/test_data/101/126860/101-126860-0022.flac', './data/test_data/101/126860/101-126860-0003.flac', './data/test_data/101/126860/101-126860-0037.flac', './data/test_data/101/126860/101-126860-0040.flac', './data/test_data/101/126860/101-126860-0035.flac', './data/test_data/101/126860/101-126860-0042.flac', './data/test_data/101/126860/101-126860-0043.flac', './data/test_data/101/126860/101-126860-0028.flac', './data/test_data/101/126860/101-126860-0015.flac', './data/test_data/101/126860/101-126860-0007.flac', './data/test_data/101/126860/101-126860-0050.flac', './data/test_data/101/126860/101-126860-0006.flac', './data/test_data/101/126860/101-126860-0019.flac', './data/test_data/101/126860/101-126860-0036.flac', './data/test_data/101/126860/101-126860-0038.flac', './data/test_data/101/126860/101-126860-0025.flac', './data/test_data/101/126860/101-126860-0021.flac', './data/test_data/101/126860/101-126860-0047.flac', './data/test_data/101/126860/101-126860-0009.flac', './data/test_data/101/126860/101-126860-0002.flac', './data/test_data/101/126860/101-126860-0005.flac', './data/test_data/101/126860/101-126860-0039.flac', './data/test_data/101/126860/101-126860-0010.flac', './data/test_data/101/126860/101-126860-0034.flac', './data/test_data/101/126860/101-126860-0016.flac', './data/test_data/101/126860/101-126860-0001.flac', './data/test_data/101/126860/101-126860-0013.flac', './data/test_data/101/126860/101-126860-0045.flac', './data/test_data/101/126860/101-126860-0033.flac', './data/test_data/101/126860/101-126860-0004.flac', './data/test_data/101/126860/101-126860-0000.flac', './data/test_data/101/126860/101-126860-0023.flac', './data/test_data/101/126860/101-126860-0020.flac', './data/test_data/101/126860/101-126860-0049.flac', './data/test_data/101/126860/101-126860-0044.flac', './data/test_data/101/126860/101-126860-0031.flac', './data/test_data/101/126860/101-126860-0014.flac', './data/test_data/101/126859/101-126859-0022.flac', './data/test_data/101/126859/101-126859-0036.flac', './data/test_data/101/126859/101-126859-0003.flac', './data/test_data/101/126859/101-126859-0016.flac', './data/test_data/101/126859/101-126859-0021.flac', './data/test_data/101/126859/101-126859-0014.flac', './data/test_data/101/126859/101-126859-0033.flac', './data/test_data/101/126859/101-126859-0012.flac', './data/test_data/101/126859/101-126859-0002.flac', './data/test_data/101/126859/101-126859-0023.flac', './data/test_data/101/126859/101-126859-0029.flac', './data/test_data/101/126859/101-126859-0028.flac', './data/test_data/101/126859/101-126859-0011.flac', './data/test_data/101/126859/101-126859-0004.flac', './data/test_data/101/126859/101-126859-0010.flac', './data/test_data/101/126859/101-126859-0007.flac', './data/test_data/101/126859/101-126859-0025.flac', './data/test_data/101/126859/101-126859-0030.flac', './data/test_data/101/126859/101-126859-0005.flac', './data/test_data/101/126859/101-126859-0031.flac', './data/test_data/101/126859/101-126859-0035.flac', './data/test_data/101/126859/101-126859-0017.flac', './data/test_data/101/126859/101-126859-0001.flac', './data/test_data/101/126859/101-126859-0024.flac', './data/test_data/101/126859/101-126859-0026.flac', './data/test_data/101/126859/101-126859-0020.flac', './data/test_data/101/126859/101-126859-0027.flac', './data/test_data/101/126859/101-126859-0032.flac', './data/test_data/101/126859/101-126859-0006.flac', './data/test_data/101/126859/101-126859-0013.flac', './data/test_data/101/126859/101-126859-0009.flac', './data/test_data/101/126859/101-126859-0015.flac', './data/test_data/101/126859/101-126859-0019.flac']\n",
      "['./data/test_data/100/121674/100-121674.trans.txt', './data/test_data/100/121669/100-121669.trans.txt', './data/test_data/100/122655/100-122655.trans.txt', './data/test_data/101/126861/101-126861.trans.txt', './data/test_data/101/126860/101-126860.trans.txt', './data/test_data/101/126859/101-126859.trans.txt', './data/test_data/101/126859/.ipynb_checkpoints/101-126859.trans-checkpoint.txt']\n"
     ]
    }
   ],
   "source": [
    "# test by sample data\n",
    "test_source_dir =\"./data/test_data\"\n",
    "flac_path_list,trans_path_list = make_file_paths(test_source_dir)\n",
    "print(flac_path_list)\n",
    "print(trans_path_list)"
   ]
  }
 ],
 "metadata": {
  "kernelspec": {
   "display_name": "HYU-GPU",
   "language": "python",
   "name": "hyu-gpu"
  },
  "language_info": {
   "codemirror_mode": {
    "name": "ipython",
    "version": 3
   },
   "file_extension": ".py",
   "mimetype": "text/x-python",
   "name": "python",
   "nbconvert_exporter": "python",
   "pygments_lexer": "ipython3",
   "version": "3.10.12"
  }
 },
 "nbformat": 4,
 "nbformat_minor": 5
}
