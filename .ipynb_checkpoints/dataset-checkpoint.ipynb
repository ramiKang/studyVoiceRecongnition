{
 "cells": [
  {
   "cell_type": "markdown",
   "id": "8bad4e5f-5210-406c-b405-07b126eb2eba",
   "metadata": {},
   "source": [
    "## Make Dataset\n",
    "하다하다 못해먹겠어서 내가 직접 만드는 데이터셋\n",
    "\n",
    "1. Load mappong json\n",
    "* (mapping).json 파일 improt\n",
    "2. Make dataFrame for mapping data\n",
    "* pandas 활용해서 audio, patch, transcription 형태의 dataFrame 정의하기\n",
    "* train/test 두 개 만들기\n",
    "* https://www.kaggle.com/code/umongsain/load-audio-data-using-huggingface-datasets\n",
    "3. Make datasetDict\n",
    "* 한 번에 Load 해서 쓸 수 있도록 datasetDict 형태로 가져오기\n",
    "* https://stackoverflow.com/questions/67852880/how-can-i-handle-this-datasets-to-create-a-datasetdict\n",
    "4. Save datasetDict in local path\n",
    "* 언제든지 쓸 수 있도록 바꿔놓기\n",
    "* https://stackoverflow.com/questions/75083737/how-to-save-custom-dataset-in-local-folder"
   ]
  },
  {
   "cell_type": "markdown",
   "id": "c167ed96-265c-4bc1-a141-9f5dc41c9fc6",
   "metadata": {},
   "source": [
    "#### Import library/Package\n",
    "가지고 올 것들 다 가져오자!"
   ]
  },
  {
   "cell_type": "code",
   "execution_count": 1,
   "id": "9da59b99-41f8-4f3f-aa72-98422c7aab50",
   "metadata": {},
   "outputs": [],
   "source": [
    "# pip\n",
    "# !pip install pandas\n",
    "# !pip install datasets"
   ]
  },
  {
   "cell_type": "code",
   "execution_count": 2,
   "id": "d5a74fee-8098-4674-ba13-3869570fa378",
   "metadata": {},
   "outputs": [
    {
     "name": "stderr",
     "output_type": "stream",
     "text": [
      "/home/haram/.local/lib/python3.10/site-packages/tqdm/auto.py:21: TqdmWarning: IProgress not found. Please update jupyter and ipywidgets. See https://ipywidgets.readthedocs.io/en/stable/user_install.html\n",
      "  from .autonotebook import tqdm as notebook_tqdm\n"
     ]
    }
   ],
   "source": [
    "# import\n",
    "import os\n",
    "import json\n",
    "import torch\n",
    "import torchaudio\n",
    "import pandas as pd\n",
    "import torch.nn as nn\n",
    "from torch.utils.data import DataLoader\n",
    "from datasets import Dataset, Audio\n",
    "import datasets"
   ]
  },
  {
   "cell_type": "markdown",
   "id": "90c6f224-a06a-4604-8304-0f1d199f1b8d",
   "metadata": {},
   "source": [
    "#### Load Json"
   ]
  },
  {
   "cell_type": "code",
   "execution_count": 3,
   "id": "bc5d2142-ea5b-48d0-bb62-ff63a3cc1c26",
   "metadata": {},
   "outputs": [],
   "source": [
    "json_file_path = \"./data/mapping_jsons/eval_json.json\"\n",
    "\n",
    "# JSON 파일 읽기\n",
    "with open(json_file_path, \"r\", encoding=\"utf-8\") as json_file:\n",
    "    mapping_data = json.load(json_file)"
   ]
  },
  {
   "cell_type": "markdown",
   "id": "7bcee339-918f-4c82-92c3-7d5ffb7ef39b",
   "metadata": {},
   "source": [
    "#### Make dataFrame for mapping data\n",
    "##### Dataset 형태\n",
    "\n",
    "\n",
    "Dataset({\n",
    "    features: ['path', 'transcription', 'audio'],\n",
    "    num_rows: 200\n",
    "})\n",
    "\n",
    "##### 특정 Dataset 형태\n",
    "```\n",
    "{\n",
    "    path:(파일 경로),\n",
    "    transcription:(전사 데이터,str),\n",
    "    audio:{\n",
    "        path:(파일 경로),\n",
    "        array:(모름 적당히 배열로 음성 데이터 잘 바꾼 듯?),\n",
    "        sampling_rate: 16000 \n",
    "    }\n",
    "}\n",
    "```"
   ]
  },
  {
   "cell_type": "code",
   "execution_count": 4,
   "id": "91772db0-1142-41c1-8f06-1bf88e270f06",
   "metadata": {},
   "outputs": [],
   "source": [
    "# dict -> dataFrame\n",
    "df=pd.DataFrame(mapping_data)\n",
    "df[\"audio\"] = df[\"path\"]\n",
    "dataset = Dataset.from_pandas(df).cast_column(\"audio\", Audio(sampling_rate=16_000))\n",
    "\n",
    "# 데이터셋 체크\n",
    "# print(dataset)\n",
    "# print(dataset[0])\n",
    "# print(dataset[0][\"path\"])\n",
    "# print(dataset[0][\"audio\"])\n",
    "# print(dataset[0][\"transcription\"])\n",
    "\n",
    "# print(dataset)\n",
    "# print(dataset[0])"
   ]
  },
  {
   "cell_type": "markdown",
   "id": "065ed90d-c3d9-4036-a9b9-e209dbe277a4",
   "metadata": {},
   "source": [
    "#### Make datasetDict\n"
   ]
  },
  {
   "cell_type": "code",
   "execution_count": 5,
   "id": "bf4f2021-3209-4704-8320-06259f700bb2",
   "metadata": {},
   "outputs": [
    {
     "data": {
      "text/plain": [
       "DatasetDict({\n",
       "    test: Dataset({\n",
       "        features: ['path', 'transcription', 'audio'],\n",
       "        num_rows: 11350\n",
       "    })\n",
       "})"
      ]
     },
     "execution_count": 5,
     "metadata": {},
     "output_type": "execute_result"
    }
   ],
   "source": [
    "dataDict = datasets.DatasetDict({\"test\":dataset})\n",
    "\n",
    "dataDict"
   ]
  },
  {
   "cell_type": "markdown",
   "id": "caab75a6-b80d-44a3-81d3-5f03fb914ef5",
   "metadata": {},
   "source": [
    "#### Save datasetDict in load patch"
   ]
  },
  {
   "cell_type": "code",
   "execution_count": 6,
   "id": "4bbacb88-8fc0-4b8a-92c6-7ffa91e69b7f",
   "metadata": {},
   "outputs": [
    {
     "name": "stderr",
     "output_type": "stream",
     "text": [
      "Saving the dataset (6/6 shards): 100%|██████████| 11350/11350 [00:06<00:00, 1878.38 examples/s]\n"
     ]
    }
   ],
   "source": [
    "dataset_target_dir = \"./data/datasets\"\n",
    "dataDict.save_to_disk(dataset_target_dir)"
   ]
  }
 ],
 "metadata": {
  "kernelspec": {
   "display_name": "HYU-GPU",
   "language": "python",
   "name": "hyu-gpu"
  },
  "language_info": {
   "codemirror_mode": {
    "name": "ipython",
    "version": 3
   },
   "file_extension": ".py",
   "mimetype": "text/x-python",
   "name": "python",
   "nbconvert_exporter": "python",
   "pygments_lexer": "ipython3",
   "version": "3.10.12"
  }
 },
 "nbformat": 4,
 "nbformat_minor": 5
}
