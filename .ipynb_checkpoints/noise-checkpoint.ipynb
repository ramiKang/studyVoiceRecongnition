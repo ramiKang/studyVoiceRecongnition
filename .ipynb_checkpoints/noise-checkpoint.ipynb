{
 "cells": [
  {
   "cell_type": "markdown",
   "id": "1c1f006c-1985-47b0-a302-53b9d4751996",
   "metadata": {},
   "source": [
    "# Generate Noise"
   ]
  },
  {
   "cell_type": "markdown",
   "id": "3625652e-64a2-49ef-8de4-d3a73599b0e3",
   "metadata": {},
   "source": [
    "### Gaussian Noise(가우시안 소음)\n",
    "* 완만한 곡선(정규분포)을 따라서 좀 더 부드러운 형태의 노이즈...\n",
    "\n",
    "### Laplacian Noise(라플라스 노이즈)\n",
    "* 끝이 표족함\n",
    "* 뾱! 튀는 애들이 많아서(극단값이 많음) 좀 특이한 친구들에 대한 적대적 학습에 좋음\n",
    "* Gaussian Noise보다 더 강한 노이즈 생성"
   ]
  },
  {
   "cell_type": "markdown",
   "id": "d29d6d78-4763-4383-8e40-beaf0d42f94c",
   "metadata": {},
   "source": [
    "### 코드 구현"
   ]
  },
  {
   "cell_type": "code",
   "execution_count": 1,
   "id": "2f137837-8546-40e0-a1e7-89e859799d46",
   "metadata": {},
   "outputs": [],
   "source": [
    "# pip"
   ]
  },
  {
   "cell_type": "code",
   "execution_count": 2,
   "id": "52c88c2e-7609-49f0-8f4b-87dea644ea17",
   "metadata": {},
   "outputs": [],
   "source": [
    "# import\n",
    "import os\n",
    "import shutil\n",
    "import librosa\n",
    "import numpy as np\n",
    "import soundfile as sf"
   ]
  },
  {
   "cell_type": "code",
   "execution_count": 3,
   "id": "5a505a6a-cadf-416b-8de0-671a77a6b611",
   "metadata": {},
   "outputs": [],
   "source": [
    "'''\n",
    "파일 경로 설정\n",
    "'''\n",
    "def set_file_path(source_dir,target_dir,root,file):\n",
    "    # 파일에 대한 경로\n",
    "    source_path = os.path.join(root, file)\n",
    "    relative_path = os.path.relpath(source_path, source_dir)\n",
    "    target_path = os.path.join(target_dir, relative_path)\n",
    "\n",
    "    os.makedirs(os.path.dirname(target_path), exist_ok=True)\n",
    "\n",
    "    return source_path,target_path    "
   ]
  },
  {
   "cell_type": "code",
   "execution_count": 4,
   "id": "e2ed3ba4-cef0-497b-8b4c-a133ad82992e",
   "metadata": {},
   "outputs": [],
   "source": [
    "'''\n",
    "가우시안 소음 생성\n",
    "\n",
    "Parameter:\n",
    "- source_dir : 탐색할 디렉토리 경로\n",
    "- target_dir : 저장될 디렉토리 경로\n",
    "- noise_level : 신호에 대한 소음 레벨\n",
    "'''\n",
    "def add_gaussian_noise_to_audio(source_dir,target_dir,noise_level=0.1):\n",
    "    for root, _, files in os.walk(source_dir):\n",
    "        for file in files:\n",
    "            if file.endswith(\".flac\"):\n",
    "                source_path,target_path = set_file_path(source_dir,target_dir,root,file)\n",
    "    \n",
    "                signal, sr = librosa.load(source_path, sr=None)\n",
    "    \n",
    "                noise = np.random.normal(0, np.std(signal) * noise_level, signal.shape)\n",
    "    \n",
    "                noisy_signal = signal + noise\n",
    "    \n",
    "                sf.write(target_path, noisy_signal, sr)\n",
    "\n",
    "            if file.endswith(\".txt\"):\n",
    "                source_path,target_path = set_file_path(source_dir,target_dir,root,file)\n",
    "                shutil.copy(source_path,target_path)"
   ]
  },
  {
   "cell_type": "code",
   "execution_count": 5,
   "id": "421363a3-e5d5-446f-8d3d-2ef64e5a0911",
   "metadata": {},
   "outputs": [],
   "source": [
    "'''\n",
    "라플리시안 소음 생성\n",
    "\n",
    "Parameter:\n",
    "- source_dir : 탐색할 디렉토리 경로\n",
    "- target_dir : 저장될 디렉토리 경로\n",
    "- noise_level : 신호에 대한 소음 레벨\n",
    "'''\n",
    "def add_laplacian_noise_to_audio(source_dir,target_dir,noise_level=0.1):\n",
    "    for root, _, files in os.walk(source_dir):\n",
    "        for file in files:\n",
    "            if file.endswith(\".flac\"):\n",
    "                source_path,target_path = set_file_path(source_dir,target_dir,root,file)\n",
    "    \n",
    "                signal, sr = librosa.load(source_path, sr=None)\n",
    "    \n",
    "                noise = np.random.laplace(0, np.std(signal) * noise_level, signal.shape) \n",
    "                # (노이즈의 분포 : 원점을 중심으로 양음 방향으로 대칭, 노이즈의 강도, 랜덤값의 형태(노이즈의 형태가 원본 신호랑 비슷))\n",
    "    \n",
    "                noisy_signal = signal + noise\n",
    "    \n",
    "                sf.write(target_path, noisy_signal, sr)\n",
    "    \n",
    "            if file.endswith(\".txt\"):\n",
    "                source_path,target_path = set_file_path(source_dir,target_dir,root,file)\n",
    "                shutil.copy(source_path,target_path)"
   ]
  },
  {
   "cell_type": "code",
   "execution_count": 6,
   "id": "018b2831-3ec6-4794-bb61-9d9964fdda34",
   "metadata": {},
   "outputs": [
    {
     "ename": "KeyboardInterrupt",
     "evalue": "",
     "output_type": "error",
     "traceback": [
      "\u001b[0;31m---------------------------------------------------------------------------\u001b[0m",
      "\u001b[0;31mKeyboardInterrupt\u001b[0m                         Traceback (most recent call last)",
      "Cell \u001b[0;32mIn[6], line 6\u001b[0m\n\u001b[1;32m      4\u001b[0m \u001b[38;5;28;01mfor\u001b[39;00m level \u001b[38;5;129;01min\u001b[39;00m \u001b[38;5;28mrange\u001b[39m(\u001b[38;5;241m1\u001b[39m,\u001b[38;5;241m11\u001b[39m):\n\u001b[1;32m      5\u001b[0m     gaussian_target_dir \u001b[38;5;241m=\u001b[39m \u001b[38;5;124mf\u001b[39m\u001b[38;5;124m'\u001b[39m\u001b[38;5;124m./data/x_eval-gaussian-\u001b[39m\u001b[38;5;132;01m{\u001b[39;00mlevel\u001b[38;5;241m*\u001b[39m\u001b[38;5;241m10\u001b[39m\u001b[38;5;132;01m}\u001b[39;00m\u001b[38;5;124m'\u001b[39m\n\u001b[0;32m----> 6\u001b[0m     \u001b[43madd_gaussian_noise_to_audio\u001b[49m\u001b[43m(\u001b[49m\u001b[43msource_dir\u001b[49m\u001b[43m,\u001b[49m\u001b[43m \u001b[49m\u001b[43mgaussian_target_dir\u001b[49m\u001b[43m,\u001b[49m\u001b[43m \u001b[49m\u001b[43mlevel\u001b[49m\u001b[38;5;241;43m/\u001b[39;49m\u001b[38;5;241;43m10\u001b[39;49m\u001b[43m)\u001b[49m\n\u001b[1;32m      8\u001b[0m \u001b[38;5;28;01mfor\u001b[39;00m level \u001b[38;5;129;01min\u001b[39;00m \u001b[38;5;28mrange\u001b[39m(\u001b[38;5;241m1\u001b[39m,\u001b[38;5;241m11\u001b[39m):\n\u001b[1;32m      9\u001b[0m     laplacian_target_dir \u001b[38;5;241m=\u001b[39m \u001b[38;5;124mf\u001b[39m\u001b[38;5;124m'\u001b[39m\u001b[38;5;124m./data/x_eval-laplacian-\u001b[39m\u001b[38;5;132;01m{\u001b[39;00mlevel\u001b[38;5;241m*\u001b[39m\u001b[38;5;241m10\u001b[39m\u001b[38;5;132;01m}\u001b[39;00m\u001b[38;5;124m'\u001b[39m\n",
      "Cell \u001b[0;32mIn[4], line 21\u001b[0m, in \u001b[0;36madd_gaussian_noise_to_audio\u001b[0;34m(source_dir, target_dir, noise_level)\u001b[0m\n\u001b[1;32m     17\u001b[0m     noise \u001b[38;5;241m=\u001b[39m np\u001b[38;5;241m.\u001b[39mrandom\u001b[38;5;241m.\u001b[39mnormal(\u001b[38;5;241m0\u001b[39m, np\u001b[38;5;241m.\u001b[39mstd(signal) \u001b[38;5;241m*\u001b[39m noise_level, signal\u001b[38;5;241m.\u001b[39mshape)\n\u001b[1;32m     19\u001b[0m     noisy_signal \u001b[38;5;241m=\u001b[39m signal \u001b[38;5;241m+\u001b[39m noise\n\u001b[0;32m---> 21\u001b[0m     \u001b[43msf\u001b[49m\u001b[38;5;241;43m.\u001b[39;49m\u001b[43mwrite\u001b[49m\u001b[43m(\u001b[49m\u001b[43mtarget_path\u001b[49m\u001b[43m,\u001b[49m\u001b[43m \u001b[49m\u001b[43mnoisy_signal\u001b[49m\u001b[43m,\u001b[49m\u001b[43m \u001b[49m\u001b[43msr\u001b[49m\u001b[43m)\u001b[49m\n\u001b[1;32m     23\u001b[0m \u001b[38;5;28;01mif\u001b[39;00m file\u001b[38;5;241m.\u001b[39mendswith(\u001b[38;5;124m\"\u001b[39m\u001b[38;5;124m.txt\u001b[39m\u001b[38;5;124m\"\u001b[39m):\n\u001b[1;32m     24\u001b[0m     source_path,target_path \u001b[38;5;241m=\u001b[39m set_file_path(source_dir,target_dir,root,file)\n",
      "File \u001b[0;32m~/.local/lib/python3.10/site-packages/soundfile.py:345\u001b[0m, in \u001b[0;36mwrite\u001b[0;34m(file, data, samplerate, subtype, endian, format, closefd)\u001b[0m\n\u001b[1;32m    342\u001b[0m     channels \u001b[38;5;241m=\u001b[39m data\u001b[38;5;241m.\u001b[39mshape[\u001b[38;5;241m1\u001b[39m]\n\u001b[1;32m    343\u001b[0m \u001b[38;5;28;01mwith\u001b[39;00m SoundFile(file, \u001b[38;5;124m'\u001b[39m\u001b[38;5;124mw\u001b[39m\u001b[38;5;124m'\u001b[39m, samplerate, channels,\n\u001b[1;32m    344\u001b[0m                subtype, endian, \u001b[38;5;28mformat\u001b[39m, closefd) \u001b[38;5;28;01mas\u001b[39;00m f:\n\u001b[0;32m--> 345\u001b[0m     \u001b[43mf\u001b[49m\u001b[38;5;241;43m.\u001b[39;49m\u001b[43mwrite\u001b[49m\u001b[43m(\u001b[49m\u001b[43mdata\u001b[49m\u001b[43m)\u001b[49m\n",
      "File \u001b[0;32m~/.local/lib/python3.10/site-packages/soundfile.py:1020\u001b[0m, in \u001b[0;36mSoundFile.write\u001b[0;34m(self, data)\u001b[0m\n\u001b[1;32m   1018\u001b[0m \u001b[38;5;66;03m# no copy is made if data has already the correct memory layout:\u001b[39;00m\n\u001b[1;32m   1019\u001b[0m data \u001b[38;5;241m=\u001b[39m np\u001b[38;5;241m.\u001b[39mascontiguousarray(data)\n\u001b[0;32m-> 1020\u001b[0m written \u001b[38;5;241m=\u001b[39m \u001b[38;5;28;43mself\u001b[39;49m\u001b[38;5;241;43m.\u001b[39;49m\u001b[43m_array_io\u001b[49m\u001b[43m(\u001b[49m\u001b[38;5;124;43m'\u001b[39;49m\u001b[38;5;124;43mwrite\u001b[39;49m\u001b[38;5;124;43m'\u001b[39;49m\u001b[43m,\u001b[49m\u001b[43m \u001b[49m\u001b[43mdata\u001b[49m\u001b[43m,\u001b[49m\u001b[43m \u001b[49m\u001b[38;5;28;43mlen\u001b[39;49m\u001b[43m(\u001b[49m\u001b[43mdata\u001b[49m\u001b[43m)\u001b[49m\u001b[43m)\u001b[49m\n\u001b[1;32m   1021\u001b[0m \u001b[38;5;28;01massert\u001b[39;00m written \u001b[38;5;241m==\u001b[39m \u001b[38;5;28mlen\u001b[39m(data)\n\u001b[1;32m   1022\u001b[0m \u001b[38;5;28mself\u001b[39m\u001b[38;5;241m.\u001b[39m_update_frames(written)\n",
      "File \u001b[0;32m~/.local/lib/python3.10/site-packages/soundfile.py:1344\u001b[0m, in \u001b[0;36mSoundFile._array_io\u001b[0;34m(self, action, array, frames)\u001b[0m\n\u001b[1;32m   1342\u001b[0m \u001b[38;5;28;01massert\u001b[39;00m array\u001b[38;5;241m.\u001b[39mdtype\u001b[38;5;241m.\u001b[39mitemsize \u001b[38;5;241m==\u001b[39m _ffi\u001b[38;5;241m.\u001b[39msizeof(ctype)\n\u001b[1;32m   1343\u001b[0m cdata \u001b[38;5;241m=\u001b[39m _ffi\u001b[38;5;241m.\u001b[39mcast(ctype \u001b[38;5;241m+\u001b[39m \u001b[38;5;124m'\u001b[39m\u001b[38;5;124m*\u001b[39m\u001b[38;5;124m'\u001b[39m, array\u001b[38;5;241m.\u001b[39m__array_interface__[\u001b[38;5;124m'\u001b[39m\u001b[38;5;124mdata\u001b[39m\u001b[38;5;124m'\u001b[39m][\u001b[38;5;241m0\u001b[39m])\n\u001b[0;32m-> 1344\u001b[0m \u001b[38;5;28;01mreturn\u001b[39;00m \u001b[38;5;28;43mself\u001b[39;49m\u001b[38;5;241;43m.\u001b[39;49m\u001b[43m_cdata_io\u001b[49m\u001b[43m(\u001b[49m\u001b[43maction\u001b[49m\u001b[43m,\u001b[49m\u001b[43m \u001b[49m\u001b[43mcdata\u001b[49m\u001b[43m,\u001b[49m\u001b[43m \u001b[49m\u001b[43mctype\u001b[49m\u001b[43m,\u001b[49m\u001b[43m \u001b[49m\u001b[43mframes\u001b[49m\u001b[43m)\u001b[49m\n",
      "File \u001b[0;32m~/.local/lib/python3.10/site-packages/soundfile.py:1353\u001b[0m, in \u001b[0;36mSoundFile._cdata_io\u001b[0;34m(self, action, data, ctype, frames)\u001b[0m\n\u001b[1;32m   1351\u001b[0m     curr \u001b[38;5;241m=\u001b[39m \u001b[38;5;28mself\u001b[39m\u001b[38;5;241m.\u001b[39mtell()\n\u001b[1;32m   1352\u001b[0m func \u001b[38;5;241m=\u001b[39m \u001b[38;5;28mgetattr\u001b[39m(_snd, \u001b[38;5;124m'\u001b[39m\u001b[38;5;124msf_\u001b[39m\u001b[38;5;124m'\u001b[39m \u001b[38;5;241m+\u001b[39m action \u001b[38;5;241m+\u001b[39m \u001b[38;5;124m'\u001b[39m\u001b[38;5;124mf_\u001b[39m\u001b[38;5;124m'\u001b[39m \u001b[38;5;241m+\u001b[39m ctype)\n\u001b[0;32m-> 1353\u001b[0m frames \u001b[38;5;241m=\u001b[39m \u001b[43mfunc\u001b[49m\u001b[43m(\u001b[49m\u001b[38;5;28;43mself\u001b[39;49m\u001b[38;5;241;43m.\u001b[39;49m\u001b[43m_file\u001b[49m\u001b[43m,\u001b[49m\u001b[43m \u001b[49m\u001b[43mdata\u001b[49m\u001b[43m,\u001b[49m\u001b[43m \u001b[49m\u001b[43mframes\u001b[49m\u001b[43m)\u001b[49m\n\u001b[1;32m   1354\u001b[0m _error_check(\u001b[38;5;28mself\u001b[39m\u001b[38;5;241m.\u001b[39m_errorcode)\n\u001b[1;32m   1355\u001b[0m \u001b[38;5;28;01mif\u001b[39;00m \u001b[38;5;28mself\u001b[39m\u001b[38;5;241m.\u001b[39mseekable():\n",
      "\u001b[0;31mKeyboardInterrupt\u001b[0m: "
     ]
    }
   ],
   "source": [
    "# source_dir 설정\n",
    "source_dir = \"./data/x_eval\"\n",
    "\n",
    "# for level in range(1,11):\n",
    "#     gaussian_target_dir = f'./data/x_eval-gaussian-{level*10}'\n",
    "#     add_gaussian_noise_to_audio(source_dir, gaussian_target_dir, level/10)\n",
    "\n",
    "for level in range(1,11):\n",
    "    laplacian_target_dir = f'./data/x_eval-laplacian-{level*10}'\n",
    "    add_laplacian_noise_to_audio(source_dir, laplacian_target_dir, level/10)"
   ]
  }
 ],
 "metadata": {
  "kernelspec": {
   "display_name": "HYU-GPU",
   "language": "python",
   "name": "hyu-gpu"
  },
  "language_info": {
   "codemirror_mode": {
    "name": "ipython",
    "version": 3
   },
   "file_extension": ".py",
   "mimetype": "text/x-python",
   "name": "python",
   "nbconvert_exporter": "python",
   "pygments_lexer": "ipython3",
   "version": "3.10.12"
  }
 },
 "nbformat": 4,
 "nbformat_minor": 5
}
