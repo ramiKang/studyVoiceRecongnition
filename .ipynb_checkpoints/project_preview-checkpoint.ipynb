{
 "cells": [
  {
   "cell_type": "markdown",
   "id": "ace8af92-0f58-4537-aee6-a550b990c0c0",
   "metadata": {},
   "source": [
    "# Description\n",
    "대여정 레츠기릿...."
   ]
  },
  {
   "cell_type": "markdown",
   "id": "7b660180-0c0c-4e79-9685-86224b704355",
   "metadata": {},
   "source": [
    "## 목표\n",
    "음성 인식의 정확도는 유지하되, 화자 인식의 정확도는 낮춤 => 개인 정보 보호 **UP**"
   ]
  },
  {
   "cell_type": "markdown",
   "id": "cde0a30f-75db-4000-b167-f2fc06fa0fd8",
   "metadata": {},
   "source": [
    "## 해야할 실험\n",
    "#### Case 1\n",
    "case1 노이즈을 추가했더니 화자(speaker) 인식(recognition) 정확도가 떨어지더라\n",
    "원본 음성 데이터 vs 노이즈 음성 데이터 비교 (Accuracy)\n",
    "#### Case 2\n",
    "case2 노이즈를 추가했는데도 음성인식 정확도가 많이 안떨어지더라\n",
    "원본 음성 데이터 vs 노이즈 음성 데이터 비교 (WER)"
   ]
  },
  {
   "cell_type": "markdown",
   "id": "3b8d288d-e9c3-4eb7-b930-7ecb0f9a91bf",
   "metadata": {},
   "source": [
    "### 데이터 수집\n",
    "* ./data/x_train/ => 훈련 데이터\n",
    "* ./data/x_eval/ => 평가 데이터(원본)\n",
    "\n",
    "위의 과정은 이미 정제되어 있어서 스킵 그냥 그대로 하면 되는 것...."
   ]
  },
  {
   "cell_type": "markdown",
   "id": "e4037948-2e68-4c8a-889e-e424b9d72b0e",
   "metadata": {},
   "source": [
    "### noise 데이터 만들기\n",
    "noise rate (10,20....90,100) 제작\n",
    "* gaussian\n"
   ]
  },
  {
   "cell_type": "markdown",
   "id": "0aa9747e-9eca-4d24-b618-7178331502c3",
   "metadata": {},
   "source": [
    "### 데이터 전처리\n",
    "* train 및 eval 데이터를 순환하여 {key : {\"audio_path\":audio_patch,\"\btranscription\":transcription}}\n",
    "* 위의 key, value 를 npy 형태로 별도의 파일로 저장\n",
    "* 위의 별도의 파일을 customer dataset 클래스 만들어서 실제로 쓸 수 있도록 구현"
   ]
  },
  {
   "cell_type": "markdown",
   "id": "3016219b-e51d-44ae-8eee-61c65e4b5094",
   "metadata": {},
   "source": [
    "### 기본 학습\n",
    "* 모델 튜닝 안 하고 정말 오리지날 데이터셋 가지고 와서 모델 돌려보고 정확도 측정해보기\n",
    "* 노이즈별로 다 확인해보고 wer 도입!"
   ]
  },
  {
   "cell_type": "markdown",
   "id": "bac95fc7-a63f-44b6-b0ce-f00db556ab21",
   "metadata": {},
   "source": [
    "### 모델 설정\n",
    "미리 Pre-trained된 모델을 가지고 와서 fine-tuning\n",
    "* wav2vec 모델을 가지고 와서 추가적인 설정\n",
    "\n",
    "#### 데이터 로딩\n",
    "실제 모델에 적용할 수 잇도록 데이터 겟또"
   ]
  },
  {
   "cell_type": "markdown",
   "id": "8c2b3484-f641-4a74-b663-c9cb08cba01f",
   "metadata": {},
   "source": [
    "## 학습\n",
    "손실함수 / optimizer 등을 사용하여 실제로 런닝을 돌리는 작업 실행\n",
    "특정 정확도 및 에러가 났을 경우 : complete 모델 / temp 모델 생성"
   ]
  },
  {
   "cell_type": "markdown",
   "id": "60723eb2-fdb7-4ec5-90d9-950b04da3abc",
   "metadata": {},
   "source": [
    "## 평가\n",
    "실제 모델 평가(wer 사용)\n",
    "origin/noise(가우시안/라플리즈)에 따른 전사 정확도 측정 개같이 나오면 개같이 멸망할 예정"
   ]
  }
 ],
 "metadata": {
  "kernelspec": {
   "display_name": "HYU-GPU",
   "language": "python",
   "name": "hyu-gpu"
  },
  "language_info": {
   "codemirror_mode": {
    "name": "ipython",
    "version": 3
   },
   "file_extension": ".py",
   "mimetype": "text/x-python",
   "name": "python",
   "nbconvert_exporter": "python",
   "pygments_lexer": "ipython3",
   "version": "3.10.12"
  }
 },
 "nbformat": 4,
 "nbformat_minor": 5
}
