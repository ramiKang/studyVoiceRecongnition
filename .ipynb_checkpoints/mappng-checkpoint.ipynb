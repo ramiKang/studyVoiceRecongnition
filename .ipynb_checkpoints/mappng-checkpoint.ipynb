{
 "cells": [
  {
   "cell_type": "markdown",
   "id": "45fa7020-1799-4a6b-9581-54d4c0492186",
   "metadata": {},
   "source": [
    "## 맵핑 데이터 만들기\n",
    "모델 평가에 활용하기 위해 mapping.json 파일을 제작\n",
    "해당 데이터셋 폴더의 모든 파일들을 보면서 해당 파일의 경로 및 transcription을 맵핑할 예정\n",
    "{data_name}_mapping.json << 이런 형태로 data/{data_name}_mapping.json 형태로 저장"
   ]
  },
  {
   "cell_type": "markdown",
   "id": "5280f9d5-15c8-4012-9d17-2b55dd1cbb94",
   "metadata": {},
   "source": [
    "### Import Library / package"
   ]
  },
  {
   "cell_type": "code",
   "execution_count": null,
   "id": "f779be4b-286f-4a7d-95dd-a743a2e71d93",
   "metadata": {},
   "outputs": [],
   "source": [
    "# pip"
   ]
  },
  {
   "cell_type": "code",
   "execution_count": null,
   "id": "4df4963c-c2ca-44a7-a7bc-c1f35f60bd71",
   "metadata": {},
   "outputs": [],
   "source": [
    "# import\n",
    "import os\n",
    "import json"
   ]
  },
  {
   "cell_type": "markdown",
   "id": "5516f3ba-cc50-4cf2-9518-7584e0fce34e",
   "metadata": {},
   "source": [
    "### Make File Path\n",
    "특정 디렉토리 안에 있는 모든 flac 파일과 txt 파일의 경로를 배열로 만듦\n",
    "\n",
    "##### **params**\n",
    "* source_dir : 탐색할 디렉토리 경로\n",
    "\n",
    "##### **returns**\n",
    "* flac_path_list : source_dir 내의 모든 .flac 파일의 경로 배열\n",
    "* trans_path_list : source_dir 내의 모든 .txt 파일의 경로 배열"
   ]
  },
  {
   "cell_type": "code",
   "execution_count": null,
   "id": "bc8e9138-fd9a-4c1f-93e2-230b3d4967a5",
   "metadata": {},
   "outputs": [],
   "source": [
    "def make_file_paths(source_dir):\n",
    "    flac_path_list = []\n",
    "    trans_path_list=[]\n",
    "    for root, _, files in os.walk(source_dir):\n",
    "            for file in files:\n",
    "                if file.endswith(\".flac\"):\n",
    "                    flac_source_path = os.path.join(root, file)\n",
    "                    flac_path_list.append(flac_source_path)\n",
    "                if file.endswith(\".txt\"):\n",
    "                    trans_source_path = os.path.join(root, file)\n",
    "                    trans_path_list.append(trans_source_path)\n",
    "    return flac_path_list,trans_path_list"
   ]
  },
  {
   "cell_type": "markdown",
   "id": "bf1a251e-bef9-4786-9d9d-2fd0115327e8",
   "metadata": {},
   "source": [
    "### Make Transcription Mapping Dict\n",
    "make_file_paths를 활용해 만들어진 trans_path_list 내부의 경로들의 파일들을 한 줄씩 읽으면서 딕녀너리 반환\n",
    "\n",
    "{파일이름 : 전사데이터} \n",
    "\n",
    "##### **Params**\n",
    "* trans_path_list : 특정 디렉토리 내의 모든 전사 파일 경로\n",
    "\n",
    "##### **returns**\n",
    "* mapping_dict : {파일이름:전사데이터} 형태의 딕셔너리, 특정 디렉토리 내의 모든 txt에 대한 전사데이터를 딕셔너리 형태로 보유"
   ]
  },
  {
   "cell_type": "code",
   "execution_count": null,
   "id": "5cf2ec09-0b0c-492c-a5d7-1d044eb73337",
   "metadata": {
    "scrolled": true
   },
   "outputs": [],
   "source": [
    "def make_path_transcription_mapping(trans_path_list):\n",
    "    mapping_dict = {}\n",
    "    \n",
    "    for trans in trans_path_list:\n",
    "        with open(trans, \"r\", encoding=\"utf-8\") as f:\n",
    "            for line in f:\n",
    "                parts = line.strip().split(\" \")\n",
    "                file_name = parts[0]\n",
    "                transcription = \" \".join(parts[1:])\n",
    "                mapping_dict[file_name] = transcription\n",
    "                \n",
    "    return mapping_dict"
   ]
  },
  {
   "cell_type": "markdown",
   "id": "c73fa53c-d9f4-4bc2-a249-4a81573c82fe",
   "metadata": {},
   "source": [
    "### Make Mapping Json File\n",
    "make_path_transcription을 통해 만들어진 전사데이터와 make_file_paths을 통해 만들어진 flac_file_list를 활용하여 [{path:(flac_file_path),\"transcription\":(전사데이터)}] 형태의 배열을 json으로 변환해줌\n",
    "\n",
    "##### **params**\n",
    "* target_dir : mapping json 파일을 저장할 디렉토리 경로\n",
    "* json_file_name :  {json_file_name}.json으로 저장할 때 사용됨\n",
    "* flac_path_list : 맵핑될 음성 데이터 배열\n",
    "* mapping_dict : make_path_transcription_mapping로 만들어진 {파일이름:전사데이터} 형태의 데이터\n",
    "\n",
    "##### **returns**\n",
    "* json 파일"
   ]
  },
  {
   "cell_type": "code",
   "execution_count": null,
   "id": "7515aa65-fd67-44e2-b864-bb99d627639b",
   "metadata": {
    "scrolled": true
   },
   "outputs": [],
   "source": [
    "def make_mapping_json(source_dir,json_file_name,flac_path_list,mapping_dict):\n",
    "    mapped_list = []\n",
    "    for flac_file in flac_path_list:\n",
    "        file_name = os.path.splitext(os.path.basename(flac_file))[0]\n",
    "        if file_name in mapping_dict:\n",
    "            mapped_list.append({\n",
    "                \"path\": flac_file,\n",
    "                \"transcription\": mapping_dict[file_name]\n",
    "            })\n",
    "\n",
    "    if not os.path.exists(source_dir):\n",
    "        os.makedirs(source_dir)\n",
    "        \n",
    "    output_json_path = os.path.join(source_dir, json_file_name+\".json\")\n",
    "    \n",
    "    with open(output_json_path, \"w\", encoding=\"utf-8\") as json_file:\n",
    "        json.dump(mapped_list, json_file, ensure_ascii=False, indent=4)\n",
    "    \n",
    "    print(\"Mapping saved to\", output_json_path,\"/\",json_file_name)"
   ]
  },
  {
   "cell_type": "code",
   "execution_count": null,
   "id": "f99f7acf-7b3f-4299-8cf9-24e9ee5f9f89",
   "metadata": {
    "scrolled": true
   },
   "outputs": [],
   "source": [
    "### Make Sample Mapping Json File\n",
    "test_source_dir = \"./data/test_data\"\n",
    "test_json_source_dir = \"./data/exist_test\"\n",
    "test_json_file_name=\"rami_mapping\"\n",
    "\n",
    "test_flac_path_list,test_trans_path_list = make_file_paths(test_source_dir) # set file path\n",
    "test_mapping_dict = make_path_transcription_mapping(test_trans_path_list)\n",
    "\n",
    "print(test_flac_path_list)\n",
    "print(test_trans_path_list)\n",
    "print(test_mapping_dict)\n",
    "make_mapping_json(test_json_source_dir,test_json_file_name,test_flac_path_list,test_mapping_dict)\n"
   ]
  }
 ],
 "metadata": {
  "kernelspec": {
   "display_name": "HYU-GPU",
   "language": "python",
   "name": "hyu-gpu"
  },
  "language_info": {
   "codemirror_mode": {
    "name": "ipython",
    "version": 3
   },
   "file_extension": ".py",
   "mimetype": "text/x-python",
   "name": "python",
   "nbconvert_exporter": "python",
   "pygments_lexer": "ipython3",
   "version": "3.10.12"
  }
 },
 "nbformat": 4,
 "nbformat_minor": 5
}
